import numpy as np
import pandas as pd

data = pd.read_csv('data.csv')

records = np.array(data)[:,:-1]
result = np.array(data)[:,-1]

def train(rec,res):
    for i,val in enumerate(res):
        if val=='yes':
            specific_hyp = rec[i].copy()
            break
            
    for i,val in enumerate(rec):
        if res[i]=='yes':
            for x in range(len(specific_hyp)):
                if val[x] != specific_hyp[x]:
                    specific_hyp[x] = '?'
                else:
                    pass
    return specific_hyp
print(train(records,result))
