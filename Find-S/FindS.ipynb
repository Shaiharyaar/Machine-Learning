{
 "cells": [
  {
   "cell_type": "raw",
   "metadata": {},
   "source": [
    "\n"
   ]
  },
  {
   "cell_type": "code",
   "execution_count": 5,
   "metadata": {},
   "outputs": [
    {
     "name": "stdout",
     "output_type": "stream",
     "text": [
      "['sunny' 'warm' '?' 'strong' '?' '?']\n"
     ]
    }
   ],
   "source": [
    "import numpy as np\n",
    "import pandas as pd\n",
    "\n",
    "data = pd.read_csv('data.csv')\n",
    "\n",
    "records = np.array(data)[:,:-1]\n",
    "result = np.array(data)[:,-1]\n",
    "\n",
    "def train(rec,res):\n",
    "    for i,val in enumerate(res):\n",
    "        if val=='yes':\n",
    "            specific_hyp = rec[i].copy()\n",
    "            break\n",
    "            \n",
    "    for i,val in enumerate(rec):\n",
    "        if res[i]=='yes':\n",
    "            for x in range(len(specific_hyp)):\n",
    "                if val[x] != specific_hyp[x]:\n",
    "                    specific_hyp[x] = '?'\n",
    "                else:\n",
    "                    pass\n",
    "    return specific_hyp\n",
    "\n",
    "print(train(records,result))\n"
   ]
  },
  {
   "cell_type": "code",
   "execution_count": null,
   "metadata": {},
   "outputs": [],
   "source": []
  }
 ],
 "metadata": {
  "kernelspec": {
   "display_name": "Python 3",
   "language": "python",
   "name": "python3"
  },
  "language_info": {
   "codemirror_mode": {
    "name": "ipython",
    "version": 3
   },
   "file_extension": ".py",
   "mimetype": "text/x-python",
   "name": "python",
   "nbconvert_exporter": "python",
   "pygments_lexer": "ipython3",
   "version": "3.7.3"
  }
 },
 "nbformat": 4,
 "nbformat_minor": 2
}
